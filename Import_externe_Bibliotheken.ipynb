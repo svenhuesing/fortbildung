{
 "cells": [
  {
   "cell_type": "markdown",
   "metadata": {},
   "source": [
    "<h2>Anaconda-Installation</h2>"
   ]
  },
  {
   "cell_type": "markdown",
   "metadata": {
    "markup_type": "markup_task"
   },
   "source": [
    "Sofern Du dies noch nicht getan hast: Installiere Anaconda auf Deinem Rechner. Dies geht über die Anleitung \"Installation_Python_und_Jupyter_Lab_mit_Anaconda.pdf\" im Sciebo-Ordner unter Handouts."
   ]
  },
  {
   "cell_type": "markdown",
   "metadata": {
    "markup_type": "markup_task"
   },
   "source": [
    "Lade dieses Notebook über Klick auf <i>File -> Download as... -> Notebook </i> herunter und öffne es in Deiner lokalen Anaconda-Umgebung (Nach Klick auf <i>Launch</i> von Jupyter Notebooks in Anaconda)."
   ]
  },
  {
   "cell_type": "markdown",
   "metadata": {
    "markup_type": "markup_task"
   },
   "source": [
    "Versuche, den folgenden Befehl auszuführen."
   ]
  },
  {
   "cell_type": "code",
   "execution_count": null,
   "metadata": {},
   "outputs": [],
   "source": [
    "import pandas\n",
    "import cufflinks as cf\n",
    "cf.go_offline()\n",
    "cf.set_config_file(offline=False, world_readable=True)"
   ]
  },
  {
   "cell_type": "markdown",
   "metadata": {
    "markup_type": "markup_task"
   },
   "source": [
    "Falls eine Fehlermeldung aufgetreten ist, müssen die Pakete <code>pandas</code> und <code>cufflinks</code> noch installiert werden. Dies geht am einfachsten über die Qt-Console in Anaconda mit den Befehlen:\n",
    "<ul>\n",
    "    <li>pandas: <code>conda install pandas</code></li>\n",
    "    <li>cufflinks: <code>conda install -c conda-forge cufflinks-py</code></li>\n",
    "</ul>"
   ]
  },
  {
   "cell_type": "markdown",
   "metadata": {
    "markup_type": "markup_task"
   },
   "source": [
    "Starte nun die Kernel einmal neu, indem Du auf <i>Kernel -> Restart & Clear Output</i> klickst. Führe danach die import-Befehle erneut aus."
   ]
  },
  {
   "cell_type": "markdown",
   "metadata": {
    "markup_type": "markup_task"
   },
   "source": [
    "Prüfe nun, ob die Installation und der Import der beiden Bibliotheken funktioniert hat, indem Du die unteren beiden Code-Zellen ausführst."
   ]
  },
  {
   "cell_type": "markdown",
   "metadata": {
    "markup_type": "markup_expl"
   },
   "source": [
    "Nachfolgend wird ein DataFrame erstellt, welches 10 Einträge beinhaltet."
   ]
  },
  {
   "cell_type": "code",
   "execution_count": null,
   "metadata": {},
   "outputs": [],
   "source": [
    "d=[1, 2, 5, 7, 4, 3, 2, 6, 7, 12]\n",
    "df = pandas.DataFrame(data=d)"
   ]
  },
  {
   "cell_type": "markdown",
   "metadata": {
    "markup_type": "markup_expl"
   },
   "source": [
    "Nun soll ein Linegraph für dieses DataFrame erzeugt werden."
   ]
  },
  {
   "cell_type": "code",
   "execution_count": null,
   "metadata": {
    "scrolled": false
   },
   "outputs": [],
   "source": [
    "df.iplot()"
   ]
  }
 ],
 "metadata": {
  "kernelspec": {
   "display_name": "Python 3",
   "language": "python",
   "name": "python3"
  },
  "language_info": {
   "codemirror_mode": {
    "name": "ipython",
    "version": 3
   },
   "file_extension": ".py",
   "mimetype": "text/x-python",
   "name": "python",
   "nbconvert_exporter": "python",
   "pygments_lexer": "ipython3",
   "version": "3.8.5"
  },
  "toc": {
   "base_numbering": 1,
   "nav_menu": {},
   "number_sections": true,
   "sideBar": true,
   "skip_h1_title": false,
   "title_cell": "Table of Contents",
   "title_sidebar": "Contents",
   "toc_cell": false,
   "toc_position": {},
   "toc_section_display": true,
   "toc_window_display": false
  }
 },
 "nbformat": 4,
 "nbformat_minor": 4
}
